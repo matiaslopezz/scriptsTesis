{
 "cells": [
  {
   "cell_type": "code",
   "execution_count": null,
   "id": "193f9384-dda0-4bee-8c68-3e8605b47bec",
   "metadata": {},
   "outputs": [],
   "source": [
    "from astropy.table import Table\n",
    "from astropy import units as u\n",
    "from astropy.coordinates import SkyCoord, Galactic\n",
    "import matplotlib.pyplot as plt\n",
    "from math import radians"
   ]
  },
  {
   "cell_type": "code",
   "execution_count": null,
   "id": "7b2dbd14-2d4c-4bd4-ae95-8919e3065916",
   "metadata": {},
   "outputs": [],
   "source": [
    "galah_cat = Table.read(r'C:\\Users\\Usuario987\\Documents\\Mati\\Ciencias\\Tesis\\data\\sondeos\\galah\\GALAH_DR3_main_allstar_v2.fits', format='fits')\n",
    "apogee_cat = Table.read(r'C:\\Users\\Usuario987\\Documents\\Mati\\Ciencias\\Tesis\\data\\sondeos\\apogee\\summary.apogeeII.r13.fits', format='fits')\n",
    "lamost_cat = Table.read(r'C:\\Users\\Usuario987\\Documents\\Mati\\Ciencias\\Tesis\\data\\sondeos\\lamost\\dr7_v2.0_MRS_catalogue.fits', format='fits')"
   ]
  },
  {
   "cell_type": "code",
   "execution_count": null,
   "id": "302b0820-e5e5-40d4-9e74-14d31373be13",
   "metadata": {},
   "outputs": [],
   "source": [
    "# GALACTIC PLOT OF GALAH\n",
    "plt.figure(figsize=(10,10))\n",
    "plt.subplot(111, projection=\"aitoff\")\n",
    "\n",
    "galah_coords = SkyCoord(ra=galah_cat['ra_dr2'], dec=galah_cat['dec_dr2'], unit='degree')\n",
    "galah_gal_coords = galah_coords.galactic\n",
    "galah_lon = galah_gal_coords.l.wrap_at(180*u.deg).radian\n",
    "galah_lat = galah_gal_coords.b.radian\n",
    "plt.scatter(-galah_lon, galah_lat, color = 'grey', s=1, linewidth=1)\n",
    "\n",
    "plt.grid(True)\n",
    "plt.xlabel('LON [$^\\circ$]')\n",
    "plt.ylabel('LAT [$^\\circ$]')\n",
    "plt.tight_layout()\n",
    "plt.title(\"Distribución galáctica de las estrellas de GALAH\", pad=20)\n",
    "plt.savefig(f\"./graphics/galactic_plot_galah.jpg\")\n",
    "\n",
    "\n",
    "# GALACTIC PLOT OF APOGEE\n",
    "plt.figure(figsize=(10,10)),\n",
    "plt.subplot(111, projection=\"aitoff\")\n",
    "\n",
    "apogee_coords= SkyCoord(ra=apogee_cat['RA'], dec=apogee_cat['DEC'], unit='degree')\n",
    "apogee_gal_coords = apogee_coords.galactic\n",
    "apogee_lon = apogee_gal_coords.l.wrap_at(180*u.deg).radian\n",
    "apogee_lat = apogee_gal_coords.b.radian\n",
    "plt.scatter(-apogee_lon, apogee_lat, color = 'purple', s=1, linewidth=1)\n",
    "\n",
    "plt.grid(True)\n",
    "plt.xlabel('LON [$^\\circ$]')\n",
    "plt.ylabel('LAT [$^\\circ$]')\n",
    "plt.tight_layout()\n",
    "plt.title(\"Distribución galáctica de las estrellas de APOGEE\", pad=20)\n",
    "plt.savefig(f\"./graphics/galactic_plot_apogee.jpg\")\n",
    "\n",
    "# GALACTIC PLOT OF LAMOST\n",
    "plt.figure(figsize=(10,10)),\n",
    "plt.subplot(111, projection=\"aitoff\")\n",
    "\n",
    "lamost_coords= SkyCoord(ra=lamost_cat['ra_obs'], dec=lamost_cat['dec_obs'], unit='degree')\n",
    "lamost_gal_coords = lamost_coords.galactic\n",
    "lamost_lon = lamost_gal_coords.l.wrap_at(180*u.deg).radian\n",
    "lamost_lat = lamost_gal_coords.b.radian\n",
    "plt.scatter(-lamost_lon, lamost_lat, color = 'red', s=1, linewidth=1)\n",
    "\n",
    "plt.grid(True)\n",
    "plt.xlabel('LON [$^\\circ$]')\n",
    "plt.ylabel('LAT [$^\\circ$]')\n",
    "plt.tight_layout()\n",
    "plt.title(\"Distribución galáctica de las estrellas de LAMOST\", pad=20)\n",
    "plt.savefig(f\"./graphics/galactic_plot_lamost.jpg\")\n",
    "\n",
    "\"\"\"\n",
    "# GALACTIC PLOT OF NYMG\n",
    "plt.figure(figsize=(10,10)),\n",
    "plt.subplot(111, projection=\"aitoff\")\n",
    "\n",
    "gagne_coords = SkyCoord(ra=main_catalogue_matched['RA'], dec=main_catalogue_matched['DEC'], unit='degree')\n",
    "gagne_gal_coords = gagne_coords.galactic\n",
    "gagne_lon = gagne_gal_coords.l.wrap_at(180*u.deg).rad\n",
    "gagne_lat = gagne_gal_coords.b.radian\n",
    "plt.scatter(-gagne_lon, gagne_lat, color = 'blue', s=2, linewidth=1)\n",
    "\n",
    "plt.grid(True)\n",
    "plt.xlabel('LON [$^\\circ$]')\n",
    "plt.ylabel('LAT [$^\\circ$]')\n",
    "plt.tight_layout()\n",
    "plt.title(\"Distribución galáctica de NYMG\", pad=20)\n",
    "#plt.savefig(f\"./graphics/galactic_plot_nymg.jpg\")\n",
    "\"\"\""
   ]
  },
  {
   "cell_type": "code",
   "execution_count": null,
   "id": "bd67a5c8-c042-496e-b581-7b196624f9bc",
   "metadata": {},
   "outputs": [],
   "source": []
  }
 ],
 "metadata": {
  "kernelspec": {
   "display_name": "Python 3 (ipykernel)",
   "language": "python",
   "name": "python3"
  },
  "language_info": {
   "codemirror_mode": {
    "name": "ipython",
    "version": 3
   },
   "file_extension": ".py",
   "mimetype": "text/x-python",
   "name": "python",
   "nbconvert_exporter": "python",
   "pygments_lexer": "ipython3",
   "version": "3.9.7"
  }
 },
 "nbformat": 4,
 "nbformat_minor": 5
}
