{
 "cells": [
  {
   "cell_type": "code",
   "execution_count": null,
   "id": "ffc9d068-d14d-44c1-9196-ff9608d0ce6b",
   "metadata": {},
   "outputs": [],
   "source": [
    "import pandas as pd\n",
    "\n",
    "catalogue = pd.read_csv(\"../data/catalogos/matchAllSurveys.csv\")\n",
    "\"\"\"\n",
    "gaia_match = pd.read_csv(\"../data/catalogos/main_catalogue_matched_GAIA.csv\")\n",
    "apogee = pd.read_csv(\"../data/catalogos/apogee_reduced.csv\")\n",
    "galah = pd.read_csv(\"../data/catalogos/galah_reduced.csv\")\n",
    "apogee_match = pd.read_csv(\"../data/catalogos/apogee_match_master.csv\")\n",
    "galah_match = pd.read_csv(\"../data/catalogos/galah_match_master.csv\")\n",
    "lamost_match = pd.read_csv(\"../data/catalogos/lamost_match_master.csv\")\n",
    "\"\"\""
   ]
  },
  {
   "cell_type": "code",
   "execution_count": null,
   "id": "829b72c6-5651-4f00-a7fe-1dfba60b6580",
   "metadata": {},
   "outputs": [],
   "source": [
    "gaia_no_vr = gaia_match[gaia_match['radial_velocity'].isnull() == True]\n",
    "\n",
    "apogee_no_vr = apogee[apogee['VHELIO_AVG'] == 999999.0]\n",
    "galah_no_vr = galah[galah['rv_galah'].isnull() == True]\n",
    "\n",
    "apogee_match_no_vr = apogee_match[apogee_match['VHELIO_AVG'] == 999999.0]\n",
    "galah_match_no_vr = galah_match[galah_match['rv_galah'].isnull() == True]\n",
    "\n",
    "lamost_match_R_no_vr = lamost_match[lamost_match['rv_r0'] == -9999.0]\n",
    "lamost_match_B_no_vr = lamost_match[lamost_match['rv_b0'] == -9999.0]"
   ]
  },
  {
   "cell_type": "code",
   "execution_count": null,
   "id": "b934740e-58ba-4f82-b8d5-be6abe171859",
   "metadata": {},
   "outputs": [],
   "source": [
    "print('Estrellas de los NYMG en GAIA sin VR:', len(gaia_no_vr),'\\n')\n",
    "\n",
    "print('Estrellas sin VR en apogee:', len(apogee_no_vr))\n",
    "print('Estrellas sin VR en galah:', len(galah_no_vr),'\\n')\n",
    "\n",
    "print('Estrellas de los NYMG en apogee sin VR:', len(apogee_match_no_vr))\n",
    "print('Estrellas de los NYMG en galah sin VR:', len(galah_match_no_vr),'\\n')\n",
    "\n",
    "print('Estrellas de los NYMG en lamost sin VR en la banda R:', len(lamost_match_R_no_vr))\n",
    "print('Estrellas de los NYMG en lamost sin VR en la banda B:', len(lamost_match_B_no_vr))"
   ]
  },
  {
   "cell_type": "code",
   "execution_count": null,
   "id": "b306966b-f58a-4ed6-8788-bf8f85d39d66",
   "metadata": {},
   "outputs": [],
   "source": [
    "catalogue.columns"
   ]
  },
  {
   "cell_type": "code",
   "execution_count": null,
   "id": "e297304c-8a1c-4270-90cc-015696019ed3",
   "metadata": {},
   "outputs": [],
   "source": [
    "pd.set_option('display.max_rows', None)"
   ]
  },
  {
   "cell_type": "code",
   "execution_count": null,
   "id": "bba37bcf-3c8b-4a85-8177-9ca5df1f0a5d",
   "metadata": {},
   "outputs": [],
   "source": [
    "print(\"GALAH con VR:\", len(catalogue[(catalogue['galah_sobject_id'].isnull() == False) & (catalogue['rv_galah'].isnull() == False)]))\n",
    "print(\"APOGEE con VR:\", len(catalogue[(catalogue['APOGEE_ID'].isnull() == False) & (catalogue['VHELIO_AVG'].isnull() == False)]))\n",
    "print(\"LAMOST con VR en B:\", len(catalogue[(catalogue['lamost_mobsid'].isnull() == False) & (catalogue['rv_b0'] != -9999.0)]))\n",
    "print(\"LAMOST con VR en R:\", len(catalogue[(catalogue['lamost_mobsid'].isnull() == False) & (catalogue['rv_r0'] != -9999.0)]))\n",
    "print(\"GAIA con VR en R:\", len(catalogue[(catalogue['radial_velocity'].isnull() == False)]))"
   ]
  },
  {
   "cell_type": "code",
   "execution_count": null,
   "id": "a16067c8-151a-4d1e-9b99-c79c426254d4",
   "metadata": {},
   "outputs": [],
   "source": [
    "filter_galah = catalogue[catalogue['rv_galah'].isnull() == True]\n",
    "filter_apogee = filter_galah[filter_galah['VHELIO_AVG'].isnull() == True]\n",
    "filter_lamost_b = filter_apogee[(filter_apogee['rv_b0'].isnull() == True) | (filter_apogee['rv_b0'] == -9999.0)]\n",
    "filter_lamost_r = filter_lamost_b[(filter_lamost_b['rv_r0'].isnull() == True) | (filter_lamost_b['rv_r0'] == -9999.0)]\n",
    "filter_gaia = filter_lamost_r[filter_lamost_r['radial_velocity'].isnull() == True]\n",
    "\n",
    "filter_gaia.to_csv('./tables/all_stars_without_vr.csv', index=False)"
   ]
  },
  {
   "cell_type": "code",
   "execution_count": null,
   "id": "e3edb859-ba70-463e-94ec-8b4fade9f06f",
   "metadata": {},
   "outputs": [],
   "source": [
    "filter_gaia.columns"
   ]
  },
  {
   "cell_type": "code",
   "execution_count": null,
   "id": "06d5f0a6-3232-40f7-938b-1d99c055397c",
   "metadata": {},
   "outputs": [],
   "source": []
  }
 ],
 "metadata": {
  "kernelspec": {
   "display_name": "Python 3 (ipykernel)",
   "language": "python",
   "name": "python3"
  },
  "language_info": {
   "codemirror_mode": {
    "name": "ipython",
    "version": 3
   },
   "file_extension": ".py",
   "mimetype": "text/x-python",
   "name": "python",
   "nbconvert_exporter": "python",
   "pygments_lexer": "ipython3",
   "version": "3.9.7"
  }
 },
 "nbformat": 4,
 "nbformat_minor": 5
}
